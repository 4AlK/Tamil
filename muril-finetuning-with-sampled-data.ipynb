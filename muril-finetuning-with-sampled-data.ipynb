{
 "cells": [
  {
   "cell_type": "markdown",
   "metadata": {},
   "source": [
    "# Muril finetuned on sampled data\n",
    "\n",
    "This model uses a dataset with oversampling and undersampling.The model is trained using weighted loss."
   ]
  },
  {
   "cell_type": "code",
   "execution_count": 3,
   "metadata": {
    "execution": {
     "iopub.execute_input": "2022-03-12T16:26:09.901244Z",
     "iopub.status.busy": "2022-03-12T16:26:09.900905Z",
     "iopub.status.idle": "2022-03-12T16:26:12.664083Z",
     "shell.execute_reply": "2022-03-12T16:26:12.662751Z",
     "shell.execute_reply.started": "2022-03-12T16:26:09.901212Z"
    }
   },
   "outputs": [],
   "source": [
    "import os\n",
    "import random\n",
    "import pandas as pd\n",
    "import numpy as np\n",
    "import matplotlib.pyplot as plt\n",
    "from tqdm.auto import tqdm\n",
    "\n",
    "from transformers import AutoTokenizer\n",
    "from transformers import TFAutoModel,AutoModel\n",
    "\n",
    "import tensorflow as tf\n",
    "from tensorflow import keras\n",
    "from tensorflow.keras import layers\n",
    "import tensorflow.keras.backend as K\n",
    "import logging\n",
    "import wandb"
   ]
  },
  {
   "cell_type": "code",
   "execution_count": 4,
   "metadata": {
    "execution": {
     "iopub.execute_input": "2022-03-12T16:26:12.674681Z",
     "iopub.status.busy": "2022-03-12T16:26:12.671507Z",
     "iopub.status.idle": "2022-03-12T16:26:12.688059Z",
     "shell.execute_reply": "2022-03-12T16:26:12.687228Z",
     "shell.execute_reply.started": "2022-03-12T16:26:12.674619Z"
    }
   },
   "outputs": [],
   "source": [
    "config = {\n",
    "    \n",
    "    'seed' : 42,\n",
    "    'model': '../input/murilbasecased',\n",
    "    'group': 'MURIL',\n",
    "    \n",
    "    'batch_size': 16,\n",
    "    'max_length': 64,\n",
    "    \n",
    "    'device' : 'GPU',\n",
    "    'epochs' : 25,\n",
    "\n",
    "    'test_size' : 0.1,\n",
    "    'lr': 5e-6,\n",
    "    'use_transfer_learning' : False,\n",
    "    \n",
    "    'use_wandb': True,\n",
    "    'wandb_mode' : 'online',\n",
    "    \n",
    "\n",
    "}\n"
   ]
  },
  {
   "cell_type": "code",
   "execution_count": 5,
   "metadata": {
    "execution": {
     "iopub.execute_input": "2022-03-12T16:26:12.692339Z",
     "iopub.status.busy": "2022-03-12T16:26:12.689907Z",
     "iopub.status.idle": "2022-03-12T16:26:12.732593Z",
     "shell.execute_reply": "2022-03-12T16:26:12.724414Z",
     "shell.execute_reply.started": "2022-03-12T16:26:12.692291Z"
    }
   },
   "outputs": [],
   "source": [
    "def seed_everything(seed = 42):\n",
    "    random.seed(seed)\n",
    "    np.random.seed(seed)\n",
    "    os.environ['PYTHONHASHSEED'] = str(seed)\n",
    "    tf.random.set_seed(seed)\n",
    "    \n",
    "# Creating a logger 📃\n",
    "def init_logger(log_file:str ='training.log'):\n",
    "    \n",
    "    # Specify the format \n",
    "    formatter = logging.Formatter('%(levelname)s:%(name)s:%(message)s')\n",
    "    \n",
    "    # Create a StreamHandler Instance\n",
    "    stream_handler = logging.StreamHandler()\n",
    "    stream_handler.setLevel(logging.DEBUG)\n",
    "    stream_handler.setFormatter(formatter)\n",
    "    \n",
    "    # Create a FileHandler Instance\n",
    "    file_handler = logging.FileHandler(log_file)\n",
    "    file_handler.setFormatter(formatter)\n",
    "    \n",
    "    # Create a logging.Logger Instance\n",
    "    logger = logging.getLogger('MURIL')\n",
    "    logger.setLevel(logging.DEBUG)\n",
    "    logger.addHandler(stream_handler)\n",
    "    logger.addHandler(file_handler)\n",
    "    \n",
    "    return logger\n",
    "\n",
    "\n",
    "LOGGER = init_logger()\n",
    "LOGGER.info(\"Logger Initialized\")\n",
    "\n",
    "seed_everything()\n",
    "LOGGER.info(\"Seed Setting done\")"
   ]
  },
  {
   "cell_type": "markdown",
   "metadata": {},
   "source": [
    "#### Preparing the train and validation dataset"
   ]
  },
  {
   "cell_type": "code",
   "execution_count": 6,
   "metadata": {
    "execution": {
     "iopub.execute_input": "2022-03-12T16:26:12.738463Z",
     "iopub.status.busy": "2022-03-12T16:26:12.738097Z",
     "iopub.status.idle": "2022-03-12T16:26:12.854278Z",
     "shell.execute_reply": "2022-03-12T16:26:12.853241Z",
     "shell.execute_reply.started": "2022-03-12T16:26:12.738418Z"
    }
   },
   "outputs": [],
   "source": [
    "train_data = pd.read_csv(\"../input/tamil-data/Tamil_train_data.csv\")\n",
    "valid_data = pd.read_csv(\"../input/tamil-data/Tamil_valid_data.csv\")"
   ]
  },
  {
   "cell_type": "code",
   "execution_count": 7,
   "metadata": {
    "execution": {
     "iopub.execute_input": "2022-03-12T16:26:12.859359Z",
     "iopub.status.busy": "2022-03-12T16:26:12.858719Z",
     "iopub.status.idle": "2022-03-12T16:26:12.882235Z",
     "shell.execute_reply": "2022-03-12T16:26:12.881105Z",
     "shell.execute_reply.started": "2022-03-12T16:26:12.859316Z"
    }
   },
   "outputs": [],
   "source": [
    "train_data = train_data[train_data.tag != 'Not-Tamil']"
   ]
  },
  {
   "cell_type": "code",
   "execution_count": 8,
   "metadata": {
    "execution": {
     "iopub.execute_input": "2022-03-12T16:26:12.890548Z",
     "iopub.status.busy": "2022-03-12T16:26:12.887814Z",
     "iopub.status.idle": "2022-03-12T16:26:12.899095Z",
     "shell.execute_reply": "2022-03-12T16:26:12.897909Z",
     "shell.execute_reply.started": "2022-03-12T16:26:12.890505Z"
    }
   },
   "outputs": [],
   "source": [
    "tags = {\"tag\":     {'Hope-Speech':0, 'None-of-the-above':7, 'Homophobia':1, 'Misandry':2,\n",
    "       'Counter-speech':3, 'Misogyny':4, 'Xenophobia':5, 'Transphobic':6}}"
   ]
  },
  {
   "cell_type": "code",
   "execution_count": 9,
   "metadata": {
    "execution": {
     "iopub.execute_input": "2022-03-12T16:26:12.907607Z",
     "iopub.status.busy": "2022-03-12T16:26:12.905538Z",
     "iopub.status.idle": "2022-03-12T16:26:12.943102Z",
     "shell.execute_reply": "2022-03-12T16:26:12.942224Z",
     "shell.execute_reply.started": "2022-03-12T16:26:12.907546Z"
    }
   },
   "outputs": [],
   "source": [
    "train_data = train_data.replace(tags)\n",
    "valid_data = valid_data.replace(tags)"
   ]
  },
  {
   "cell_type": "code",
   "execution_count": 10,
   "metadata": {
    "execution": {
     "iopub.execute_input": "2022-03-12T16:26:12.945577Z",
     "iopub.status.busy": "2022-03-12T16:26:12.944967Z",
     "iopub.status.idle": "2022-03-12T16:26:12.969065Z",
     "shell.execute_reply": "2022-03-12T16:26:12.968143Z",
     "shell.execute_reply.started": "2022-03-12T16:26:12.945530Z"
    }
   },
   "outputs": [],
   "source": [
    "train_data['tag'].value_counts()"
   ]
  },
  {
   "cell_type": "code",
   "execution_count": 11,
   "metadata": {
    "execution": {
     "iopub.execute_input": "2022-03-12T16:26:12.976335Z",
     "iopub.status.busy": "2022-03-12T16:26:12.973945Z",
     "iopub.status.idle": "2022-03-12T16:26:12.999255Z",
     "shell.execute_reply": "2022-03-12T16:26:12.998341Z",
     "shell.execute_reply.started": "2022-03-12T16:26:12.976281Z"
    }
   },
   "outputs": [],
   "source": [
    "train_data.head()"
   ]
  },
  {
   "cell_type": "code",
   "execution_count": 12,
   "metadata": {
    "execution": {
     "iopub.execute_input": "2022-03-12T16:26:13.008239Z",
     "iopub.status.busy": "2022-03-12T16:26:13.005723Z",
     "iopub.status.idle": "2022-03-12T16:26:13.025076Z",
     "shell.execute_reply": "2022-03-12T16:26:13.024186Z",
     "shell.execute_reply.started": "2022-03-12T16:26:13.008145Z"
    }
   },
   "outputs": [],
   "source": [
    "# Disproportionate sampling:\n",
    "# randomly select 4 samples from each stratum\n",
    "\n",
    "#train_data = train_data.groupby('tag', group_keys=False).apply(lambda x: x.sample(750,replace='True'))\n",
    "train_data = train_data.drop(train_data[train_data['tag'] == 7].sample(frac=0.4).index)"
   ]
  },
  {
   "cell_type": "code",
   "execution_count": 13,
   "metadata": {
    "execution": {
     "iopub.execute_input": "2022-03-12T16:26:13.032822Z",
     "iopub.status.busy": "2022-03-12T16:26:13.030303Z",
     "iopub.status.idle": "2022-03-12T16:26:13.044713Z",
     "shell.execute_reply": "2022-03-12T16:26:13.043430Z",
     "shell.execute_reply.started": "2022-03-12T16:26:13.032775Z"
    }
   },
   "outputs": [],
   "source": [
    "def oversample(df):\n",
    "    classes = [4,0,1,6,5]\n",
    "    most = 250\n",
    "    classes_list = []\n",
    "    for key in classes:\n",
    "        classes_list.append(df[df['tag'] == key]) \n",
    "    classes_sample = []\n",
    "    for i in range(len(classes_list)):\n",
    "        classes_sample.append(classes_list[i].sample(most, replace=True))\n",
    "    df_maybe = pd.concat(classes_sample)\n",
    "    final_df = pd.concat([df_maybe,df], axis=0)\n",
    "    final_df = final_df.reset_index(drop=True)\n",
    "    return final_df"
   ]
  },
  {
   "cell_type": "code",
   "execution_count": 14,
   "metadata": {
    "execution": {
     "iopub.execute_input": "2022-03-12T16:26:13.285311Z",
     "iopub.status.busy": "2022-03-12T16:26:13.284552Z",
     "iopub.status.idle": "2022-03-12T16:26:13.303389Z",
     "shell.execute_reply": "2022-03-12T16:26:13.302460Z",
     "shell.execute_reply.started": "2022-03-12T16:26:13.285266Z"
    }
   },
   "outputs": [],
   "source": [
    "train_data = oversample(train_data)"
   ]
  },
  {
   "cell_type": "code",
   "execution_count": 15,
   "metadata": {
    "execution": {
     "iopub.execute_input": "2022-03-12T16:26:13.646318Z",
     "iopub.status.busy": "2022-03-12T16:26:13.644466Z",
     "iopub.status.idle": "2022-03-12T16:26:13.654388Z",
     "shell.execute_reply": "2022-03-12T16:26:13.653316Z",
     "shell.execute_reply.started": "2022-03-12T16:26:13.646267Z"
    }
   },
   "outputs": [],
   "source": [
    "train_data['tag'].value_counts()"
   ]
  },
  {
   "cell_type": "code",
   "execution_count": 16,
   "metadata": {
    "execution": {
     "iopub.execute_input": "2022-03-12T16:26:14.520322Z",
     "iopub.status.busy": "2022-03-12T16:26:14.519339Z",
     "iopub.status.idle": "2022-03-12T16:26:14.527867Z",
     "shell.execute_reply": "2022-03-12T16:26:14.525452Z",
     "shell.execute_reply.started": "2022-03-12T16:26:14.520285Z"
    }
   },
   "outputs": [],
   "source": [
    "from tensorflow.keras.utils import to_categorical\n",
    "\n",
    "y_train = to_categorical(train_data.tag)\n",
    "y_valid = to_categorical(valid_data.tag)"
   ]
  },
  {
   "cell_type": "code",
   "execution_count": 17,
   "metadata": {
    "execution": {
     "iopub.execute_input": "2022-03-12T16:26:15.052230Z",
     "iopub.status.busy": "2022-03-12T16:26:15.051904Z",
     "iopub.status.idle": "2022-03-12T16:26:15.121472Z",
     "shell.execute_reply": "2022-03-12T16:26:15.120446Z",
     "shell.execute_reply.started": "2022-03-12T16:26:15.052196Z"
    }
   },
   "outputs": [],
   "source": [
    "from sklearn.model_selection import train_test_split\n",
    "\n",
    "df_train = train_data\n",
    "df_valid = valid_data\n",
    "\n",
    "#df_train = df_train.reset_index(drop=True)\n",
    "#df_valid = df_valid.reset_index(drop=True)\n",
    "df_train.to_csv('df_train.csv', index=False)\n",
    "df_valid.to_csv('df_valid.csv', index=False)"
   ]
  },
  {
   "cell_type": "code",
   "execution_count": 18,
   "metadata": {
    "execution": {
     "iopub.execute_input": "2022-03-12T16:26:15.524300Z",
     "iopub.status.busy": "2022-03-12T16:26:15.523805Z",
     "iopub.status.idle": "2022-03-12T16:26:24.548122Z",
     "shell.execute_reply": "2022-03-12T16:26:24.546827Z",
     "shell.execute_reply.started": "2022-03-12T16:26:15.524264Z"
    }
   },
   "outputs": [],
   "source": [
    "import wandb\n",
    "\n",
    "if config['use_wandb']:\n",
    "    \n",
    "    wandb.login(key='bea7e72396b621da99070349c065e980f4721fa0')\n",
    "    wandb.init()\n",
    "    artifact =  wandb.Artifact(name=\"folds\", type=\"dataset\")\n",
    "    artifact.add_file('./df_train.csv')\n",
    "    artifact.add_file('./df_valid.csv')\n",
    "\n",
    "    LOGGER.info(\"Logging folds.csv to W&B Artifacts\")\n",
    "    wandb.log_artifact(artifact)"
   ]
  },
  {
   "cell_type": "markdown",
   "metadata": {},
   "source": [
    "#### Loading the tokeniser and tokenising the data"
   ]
  },
  {
   "cell_type": "code",
   "execution_count": 19,
   "metadata": {
    "execution": {
     "iopub.execute_input": "2022-03-12T16:26:24.551516Z",
     "iopub.status.busy": "2022-03-12T16:26:24.551118Z",
     "iopub.status.idle": "2022-03-12T16:26:25.416205Z",
     "shell.execute_reply": "2022-03-12T16:26:25.415144Z",
     "shell.execute_reply.started": "2022-03-12T16:26:24.551469Z"
    }
   },
   "outputs": [],
   "source": [
    "tokenizer = AutoTokenizer.from_pretrained(config['model'])\n",
    "print(tokenizer)\n",
    "\n",
    "LOGGER.info('Tokenizer loaded')"
   ]
  },
  {
   "cell_type": "code",
   "execution_count": 23,
   "metadata": {
    "execution": {
     "iopub.execute_input": "2022-03-12T16:26:25.484917Z",
     "iopub.status.busy": "2022-03-12T16:26:25.483752Z",
     "iopub.status.idle": "2022-03-12T16:26:33.135974Z",
     "shell.execute_reply": "2022-03-12T16:26:33.135062Z",
     "shell.execute_reply.started": "2022-03-12T16:26:25.484869Z"
    }
   },
   "outputs": [],
   "source": [
    "#x_train = dataset.run_tokenizer(df_train)\n",
    "#x_valid = dataset.run_tokenizer(df_valid)\n",
    "\n",
    "x_train = tokenizer(\n",
    "    text=df_train.comments.tolist(),\n",
    "    add_special_tokens=True,\n",
    "    max_length = 64,\n",
    "    padding='max_length',\n",
    "    truncation=True, \n",
    "    return_tensors='tf',\n",
    "    return_token_type_ids = True,\n",
    "    return_attention_mask = True,\n",
    "    verbose = True)\n",
    "x_test = tokenizer(\n",
    "    text=df_valid.comments.tolist(),\n",
    "    add_special_tokens=True,\n",
    "    truncation=True,\n",
    "    max_length = 64,\n",
    "    padding='max_length',\n",
    "    return_tensors='tf',\n",
    "    return_token_type_ids = True,\n",
    "    return_attention_mask = True,\n",
    "    verbose = True)"
   ]
  },
  {
   "cell_type": "code",
   "execution_count": 24,
   "metadata": {
    "execution": {
     "iopub.execute_input": "2022-03-12T16:26:33.143649Z",
     "iopub.status.busy": "2022-03-12T16:26:33.140441Z",
     "iopub.status.idle": "2022-03-12T16:26:33.158362Z",
     "shell.execute_reply": "2022-03-12T16:26:33.156815Z",
     "shell.execute_reply.started": "2022-03-12T16:26:33.143603Z"
    }
   },
   "outputs": [],
   "source": [
    "x_train[\"input_ids\"]"
   ]
  },
  {
   "cell_type": "code",
   "execution_count": 25,
   "metadata": {
    "execution": {
     "iopub.execute_input": "2022-03-12T16:26:33.162650Z",
     "iopub.status.busy": "2022-03-12T16:26:33.161192Z",
     "iopub.status.idle": "2022-03-12T16:26:33.185238Z",
     "shell.execute_reply": "2022-03-12T16:26:33.184203Z",
     "shell.execute_reply.started": "2022-03-12T16:26:33.162592Z"
    }
   },
   "outputs": [],
   "source": [
    "df_train.shape"
   ]
  },
  {
   "cell_type": "code",
   "execution_count": 26,
   "metadata": {
    "execution": {
     "iopub.execute_input": "2022-03-12T16:26:33.187852Z",
     "iopub.status.busy": "2022-03-12T16:26:33.187411Z",
     "iopub.status.idle": "2022-03-12T16:26:33.201609Z",
     "shell.execute_reply": "2022-03-12T16:26:33.200218Z",
     "shell.execute_reply.started": "2022-03-12T16:26:33.187793Z"
    }
   },
   "outputs": [],
   "source": [
    "df_train['tag'].value_counts()"
   ]
  },
  {
   "cell_type": "code",
   "execution_count": 27,
   "metadata": {
    "execution": {
     "iopub.execute_input": "2022-03-12T16:26:33.207086Z",
     "iopub.status.busy": "2022-03-12T16:26:33.206843Z",
     "iopub.status.idle": "2022-03-12T16:26:33.218031Z",
     "shell.execute_reply": "2022-03-12T16:26:33.216487Z",
     "shell.execute_reply.started": "2022-03-12T16:26:33.207056Z"
    }
   },
   "outputs": [],
   "source": [
    "df_valid['tag'].value_counts()"
   ]
  },
  {
   "cell_type": "markdown",
   "metadata": {},
   "source": [
    "#### Defining the model architecture"
   ]
  },
  {
   "cell_type": "code",
   "execution_count": 28,
   "metadata": {
    "execution": {
     "iopub.execute_input": "2022-03-12T16:26:33.219732Z",
     "iopub.status.busy": "2022-03-12T16:26:33.219384Z",
     "iopub.status.idle": "2022-03-12T16:26:33.235248Z",
     "shell.execute_reply": "2022-03-12T16:26:33.234201Z",
     "shell.execute_reply.started": "2022-03-12T16:26:33.219696Z"
    }
   },
   "outputs": [],
   "source": [
    "def get_keras_model():\n",
    "    pretrained_model = TFAutoModel.from_pretrained(config['model'])\n",
    "    \n",
    "    input_ids = layers.Input(shape=(config['max_length']),\n",
    "                             name='input_ids', \n",
    "                             dtype=tf.int32)\n",
    "    token_type_ids = layers.Input(shape=(config['max_length'],),\n",
    "                                  name='token_type_ids', \n",
    "                                  dtype=tf.int32)\n",
    "    attention_mask = layers.Input(shape=(config['max_length'],),\n",
    "                                  name='attention_mask', \n",
    "                                  dtype=tf.int32)\n",
    "    embedding = pretrained_model(input_ids, \n",
    "                     token_type_ids=token_type_ids, \n",
    "                     attention_mask=attention_mask)[0]\n",
    "\n",
    "   \n",
    "\n",
    "    x1 = tf.keras.layers.Dropout(0.2)(embedding) \n",
    "    x1 = tf.keras.layers.Conv1D(1,1)(x1)\n",
    "    x1 = tf.keras.layers.Flatten()(x1)\n",
    "    x1 = tf.keras.layers.Dense(8, activation='softmax')(x1)\n",
    "   \n",
    "    #print(x1.shape)\n",
    "    \n",
    "    model = keras.Model(inputs=[input_ids, \n",
    "                                token_type_ids, \n",
    "                                attention_mask],\n",
    "                        outputs=x1)\n",
    "    \n",
    "    return model"
   ]
  },
  {
   "cell_type": "code",
   "execution_count": 29,
   "metadata": {
    "execution": {
     "iopub.execute_input": "2022-03-12T16:26:33.237284Z",
     "iopub.status.busy": "2022-03-12T16:26:33.236815Z",
     "iopub.status.idle": "2022-03-12T16:26:52.240559Z",
     "shell.execute_reply": "2022-03-12T16:26:52.239192Z",
     "shell.execute_reply.started": "2022-03-12T16:26:33.237219Z"
    }
   },
   "outputs": [],
   "source": [
    "model = get_keras_model()\n",
    "LOGGER.info(\"Model Loaded\")"
   ]
  },
  {
   "cell_type": "code",
   "execution_count": 30,
   "metadata": {
    "execution": {
     "iopub.execute_input": "2022-03-12T16:26:52.243303Z",
     "iopub.status.busy": "2022-03-12T16:26:52.242734Z",
     "iopub.status.idle": "2022-03-12T16:26:52.250311Z",
     "shell.execute_reply": "2022-03-12T16:26:52.249338Z",
     "shell.execute_reply.started": "2022-03-12T16:26:52.243255Z"
    }
   },
   "outputs": [],
   "source": [
    "if config['use_transfer_learning']:\n",
    "    for layer in model.layers:\n",
    "        if 'tf_bert_model' in layer.name:\n",
    "            layer.trainable = False\n",
    "    Logger.info(\"Transfer learning is enabled\")"
   ]
  },
  {
   "cell_type": "markdown",
   "metadata": {},
   "source": [
    "#### Setting hyperparams for the model"
   ]
  },
  {
   "cell_type": "code",
   "execution_count": 31,
   "metadata": {
    "execution": {
     "iopub.execute_input": "2022-03-12T16:26:52.252605Z",
     "iopub.status.busy": "2022-03-12T16:26:52.252225Z",
     "iopub.status.idle": "2022-03-12T16:26:52.287783Z",
     "shell.execute_reply": "2022-03-12T16:26:52.286093Z",
     "shell.execute_reply.started": "2022-03-12T16:26:52.252559Z"
    }
   },
   "outputs": [],
   "source": [
    "from tensorflow.keras.losses import CategoricalCrossentropy\n",
    "from tensorflow.keras.metrics import CategoricalAccuracy\n",
    "\n",
    "loss =CategoricalCrossentropy()\n",
    "metric = CategoricalAccuracy('balanced_accuracy')\n",
    "\n",
    "\n",
    "\n",
    "optimizer = keras.optimizers.Adam(lr= config['lr'],epsilon=1e-08, clipnorm=1.0)\n",
    "#model.compile(loss = \"categorical_crossentropy\" , optimizer=optimizer, metrics=[METRICS])\n",
    "\n",
    "model.compile(loss=loss, optimizer= optimizer, metrics = metric)"
   ]
  },
  {
   "cell_type": "code",
   "execution_count": 32,
   "metadata": {
    "execution": {
     "iopub.execute_input": "2022-03-12T16:26:52.289800Z",
     "iopub.status.busy": "2022-03-12T16:26:52.289466Z",
     "iopub.status.idle": "2022-03-12T16:26:53.437860Z",
     "shell.execute_reply": "2022-03-12T16:26:53.436634Z",
     "shell.execute_reply.started": "2022-03-12T16:26:52.289753Z"
    }
   },
   "outputs": [],
   "source": [
    "tf.keras.utils.plot_model(model, show_shapes=True,show_dtype=True)"
   ]
  },
  {
   "cell_type": "code",
   "execution_count": 33,
   "metadata": {
    "execution": {
     "iopub.execute_input": "2022-03-12T16:26:53.443223Z",
     "iopub.status.busy": "2022-03-12T16:26:53.439761Z",
     "iopub.status.idle": "2022-03-12T16:26:53.532483Z",
     "shell.execute_reply": "2022-03-12T16:26:53.529976Z",
     "shell.execute_reply.started": "2022-03-12T16:26:53.440078Z"
    }
   },
   "outputs": [],
   "source": [
    "if config['use_wandb']:\n",
    "    wandb.log({\"model\": wandb.Image('model.png')})"
   ]
  },
  {
   "cell_type": "code",
   "execution_count": 34,
   "metadata": {
    "execution": {
     "iopub.execute_input": "2022-03-12T16:26:53.548505Z",
     "iopub.status.busy": "2022-03-12T16:26:53.544847Z",
     "iopub.status.idle": "2022-03-12T16:26:53.570965Z",
     "shell.execute_reply": "2022-03-12T16:26:53.569599Z",
     "shell.execute_reply.started": "2022-03-12T16:26:53.548447Z"
    }
   },
   "outputs": [],
   "source": [
    "def get_callbacks():\n",
    "    bm = tf.keras.callbacks.ModelCheckpoint('best_model_sampled_25.h5',\n",
    "                                            verbose=1, \n",
    "                                            monitor='val_loss', \n",
    "                                            mode='min', \n",
    "                                            save_best_only=True, \n",
    "                                            save_weights_only=True)\n",
    "    lm = tf.keras.callbacks.ModelCheckpoint('last_model_25.h5',\n",
    "                                            verbose=1, \n",
    "                                            save_best_only=False, \n",
    "                                            save_weights_only=True)\n",
    "    \n",
    "    callbacks = [bm , lm]\n",
    "    \n",
    "    if config['use_wandb']:\n",
    "        callbacks.append( wandb.keras.WandbCallback(save_model=False) )\n",
    "    return callbacks"
   ]
  },
  {
   "cell_type": "code",
   "execution_count": 35,
   "metadata": {
    "execution": {
     "iopub.execute_input": "2022-03-12T16:26:53.580358Z",
     "iopub.status.busy": "2022-03-12T16:26:53.580036Z",
     "iopub.status.idle": "2022-03-12T16:26:53.608234Z",
     "shell.execute_reply": "2022-03-12T16:26:53.604846Z",
     "shell.execute_reply.started": "2022-03-12T16:26:53.580311Z"
    }
   },
   "outputs": [],
   "source": [
    "from sklearn.utils import class_weight\n",
    "class_weights = class_weight.compute_class_weight(class_weight = \"balanced\",classes =  np.unique(df_train['tag']),y = np.array(df_train['tag']))\n",
    "class_weights = dict(enumerate(class_weights))\n",
    "class_weights"
   ]
  },
  {
   "cell_type": "markdown",
   "metadata": {},
   "source": [
    "#### Training the model"
   ]
  },
  {
   "cell_type": "code",
   "execution_count": 36,
   "metadata": {
    "execution": {
     "iopub.execute_input": "2022-03-12T16:26:53.612998Z",
     "iopub.status.busy": "2022-03-12T16:26:53.612752Z",
     "iopub.status.idle": "2022-03-12T17:01:41.263224Z",
     "shell.execute_reply": "2022-03-12T17:01:41.262204Z",
     "shell.execute_reply.started": "2022-03-12T16:26:53.612963Z"
    }
   },
   "outputs": [],
   "source": [
    "history = model.fit(x = {'input_ids':x_train['input_ids'], \n",
    "                    'token_type_ids':x_train['token_type_ids'], \n",
    "                    'attention_mask': x_train['attention_mask']},\n",
    "                    y = y_train,\n",
    "                    class_weight = class_weights,\n",
    "                    epochs=config['epochs'], \n",
    "                    callbacks=get_callbacks(), \n",
    "                    validation_data = ({'input_ids':x_test['input_ids'], \n",
    "                    'token_type_ids':x_test['token_type_ids'], \n",
    "                    'attention_mask': x_test['attention_mask']},y_valid))"
   ]
  },
  {
   "cell_type": "code",
   "execution_count": 37,
   "metadata": {
    "execution": {
     "iopub.execute_input": "2022-03-12T17:01:41.267317Z",
     "iopub.status.busy": "2022-03-12T17:01:41.264988Z",
     "iopub.status.idle": "2022-03-12T17:01:41.655104Z",
     "shell.execute_reply": "2022-03-12T17:01:41.654035Z",
     "shell.execute_reply.started": "2022-03-12T17:01:41.267257Z"
    }
   },
   "outputs": [],
   "source": [
    "def plot_hist(hist):\n",
    "    plt.figure(figsize=(15,5))\n",
    "    local_epochs = len(hist.history[\"loss\"])\n",
    "    plt.plot(np.arange(local_epochs, step=1), hist.history[\"loss\"], '-o', label='Train Loss',color='#ff7f0e')\n",
    "    plt.plot(np.arange(local_epochs, step=1), hist.history[\"val_loss\"], '-o',label='Val Loss',color='#1f77b4')\n",
    "    plt.xlabel('Epoch',size=14)\n",
    "    plt.ylabel('Loss',size=14)\n",
    "    plt.legend(loc=2)\n",
    "    \n",
    "    plt.savefig('loss.png')\n",
    "    plt.show()\n",
    "    \n",
    "plot_hist(history)"
   ]
  },
  {
   "cell_type": "markdown",
   "metadata": {},
   "source": [
    "#### Loading the model and preparing the test data"
   ]
  },
  {
   "cell_type": "code",
   "execution_count": 38,
   "metadata": {
    "execution": {
     "iopub.execute_input": "2022-03-12T17:01:41.657354Z",
     "iopub.status.busy": "2022-03-12T17:01:41.656795Z",
     "iopub.status.idle": "2022-03-12T17:01:56.349004Z",
     "shell.execute_reply": "2022-03-12T17:01:56.346098Z",
     "shell.execute_reply.started": "2022-03-12T17:01:41.657307Z"
    }
   },
   "outputs": [],
   "source": [
    "model_eval = get_keras_model()\n",
    "\n",
    "model_eval.load_weights('./best_model_sampled_25.h5')"
   ]
  },
  {
   "cell_type": "code",
   "execution_count": 39,
   "metadata": {
    "execution": {
     "iopub.execute_input": "2022-03-12T17:01:56.354891Z",
     "iopub.status.busy": "2022-03-12T17:01:56.354057Z",
     "iopub.status.idle": "2022-03-12T17:01:56.397375Z",
     "shell.execute_reply": "2022-03-12T17:01:56.396347Z",
     "shell.execute_reply.started": "2022-03-12T17:01:56.354840Z"
    }
   },
   "outputs": [],
   "source": [
    "test = pd.read_csv('../input/tamil-data/Tamil_test_data.csv')\n",
    "test = test.replace(tags)"
   ]
  },
  {
   "cell_type": "code",
   "execution_count": 40,
   "metadata": {
    "execution": {
     "iopub.execute_input": "2022-03-12T17:01:56.399083Z",
     "iopub.status.busy": "2022-03-12T17:01:56.398779Z",
     "iopub.status.idle": "2022-03-12T17:01:56.451548Z",
     "shell.execute_reply": "2022-03-12T17:01:56.450582Z",
     "shell.execute_reply.started": "2022-03-12T17:01:56.399038Z"
    }
   },
   "outputs": [],
   "source": [
    "test_labels = pd.read_csv(\"../input/tamil-data/Tamil_test_labels_data.csv\")\n",
    "\n",
    "test_labels = test_labels.replace(tags)\n",
    "test_labels = pd.merge(test_labels, test, on=['comments'])\n",
    "test_labels = test_labels.dropna()"
   ]
  },
  {
   "cell_type": "code",
   "execution_count": 41,
   "metadata": {
    "execution": {
     "iopub.execute_input": "2022-03-12T17:01:56.454797Z",
     "iopub.status.busy": "2022-03-12T17:01:56.453848Z",
     "iopub.status.idle": "2022-03-12T17:01:56.727336Z",
     "shell.execute_reply": "2022-03-12T17:01:56.726308Z",
     "shell.execute_reply.started": "2022-03-12T17:01:56.454751Z"
    }
   },
   "outputs": [],
   "source": [
    "x_test = tokenizer(\n",
    "    text=test_labels.comments.tolist(),\n",
    "    add_special_tokens=True,\n",
    "    max_length = 64,\n",
    "    padding='max_length',\n",
    "    truncation=True, \n",
    "    return_tensors='tf',\n",
    "    return_token_type_ids = True,\n",
    "    return_attention_mask = True,\n",
    "    verbose = True)"
   ]
  },
  {
   "cell_type": "code",
   "execution_count": 42,
   "metadata": {
    "execution": {
     "iopub.execute_input": "2022-03-12T17:01:56.729396Z",
     "iopub.status.busy": "2022-03-12T17:01:56.729052Z",
     "iopub.status.idle": "2022-03-12T17:02:08.079683Z",
     "shell.execute_reply": "2022-03-12T17:02:08.078703Z",
     "shell.execute_reply.started": "2022-03-12T17:01:56.729354Z"
    }
   },
   "outputs": [],
   "source": [
    "preds = model.predict(x = {'input_ids':x_test['input_ids'], \n",
    "                    'token_type_ids':x_test['token_type_ids'], \n",
    "                    'attention_mask': x_test['attention_mask']}, verbose = 1, workers=4)"
   ]
  },
  {
   "cell_type": "code",
   "execution_count": 43,
   "metadata": {
    "execution": {
     "iopub.execute_input": "2022-03-12T17:02:08.082580Z",
     "iopub.status.busy": "2022-03-12T17:02:08.081514Z",
     "iopub.status.idle": "2022-03-12T17:02:08.101347Z",
     "shell.execute_reply": "2022-03-12T17:02:08.100319Z",
     "shell.execute_reply.started": "2022-03-12T17:02:08.082535Z"
    }
   },
   "outputs": [],
   "source": [
    "pr = []\n",
    "for p in preds:\n",
    "    pr.append(np.argmax(p))"
   ]
  },
  {
   "cell_type": "markdown",
   "metadata": {},
   "source": [
    "#### Testing the performance of model on unseen test data"
   ]
  },
  {
   "cell_type": "code",
   "execution_count": 44,
   "metadata": {
    "execution": {
     "iopub.execute_input": "2022-03-12T17:02:08.103345Z",
     "iopub.status.busy": "2022-03-12T17:02:08.102883Z",
     "iopub.status.idle": "2022-03-12T17:02:08.131648Z",
     "shell.execute_reply": "2022-03-12T17:02:08.130564Z",
     "shell.execute_reply.started": "2022-03-12T17:02:08.103297Z"
    }
   },
   "outputs": [],
   "source": [
    "import sklearn\n",
    "import pandas as pd, numpy as np\n",
    "from sklearn.linear_model import LogisticRegression\n",
    "from sklearn.feature_extraction.text import TfidfVectorizer\n",
    "\n",
    "print(sklearn.metrics.classification_report(test_labels['tag'], pr))"
   ]
  },
  {
   "cell_type": "code",
   "execution_count": null,
   "metadata": {},
   "outputs": [],
   "source": []
  }
 ],
 "metadata": {
  "kernelspec": {
   "display_name": "Python 3 (ipykernel)",
   "language": "python",
   "name": "python3"
  },
  "language_info": {
   "codemirror_mode": {
    "name": "ipython",
    "version": 3
   },
   "file_extension": ".py",
   "mimetype": "text/x-python",
   "name": "python",
   "nbconvert_exporter": "python",
   "pygments_lexer": "ipython3",
   "version": "3.11.5"
  }
 },
 "nbformat": 4,
 "nbformat_minor": 4
}
