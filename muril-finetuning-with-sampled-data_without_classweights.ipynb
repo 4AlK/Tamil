{
 "cells": [
  {
   "cell_type": "markdown",
   "metadata": {},
   "source": [
    "# Muril finetuned on sampled data\n",
    "\n",
    "This model uses a dataset with oversampling and undersampling."
   ]
  },
  {
   "cell_type": "code",
   "execution_count": 45,
   "metadata": {
    "execution": {
     "iopub.execute_input": "2022-03-12T17:08:45.502063Z",
     "iopub.status.busy": "2022-03-12T17:08:45.501752Z",
     "iopub.status.idle": "2022-03-12T17:08:45.510443Z",
     "shell.execute_reply": "2022-03-12T17:08:45.509276Z",
     "shell.execute_reply.started": "2022-03-12T17:08:45.502029Z"
    }
   },
   "outputs": [],
   "source": [
    "import os\n",
    "import random\n",
    "import pandas as pd\n",
    "import numpy as np\n",
    "import matplotlib.pyplot as plt\n",
    "from tqdm.auto import tqdm\n",
    "\n",
    "from transformers import AutoTokenizer\n",
    "from transformers import TFAutoModel,AutoModel\n",
    "\n",
    "import tensorflow as tf\n",
    "from tensorflow import keras\n",
    "from tensorflow.keras import layers\n",
    "import tensorflow.keras.backend as K\n",
    "import logging\n",
    "import wandb"
   ]
  },
  {
   "cell_type": "code",
   "execution_count": 46,
   "metadata": {
    "execution": {
     "iopub.execute_input": "2022-03-12T17:08:45.697518Z",
     "iopub.status.busy": "2022-03-12T17:08:45.696901Z",
     "iopub.status.idle": "2022-03-12T17:08:45.705045Z",
     "shell.execute_reply": "2022-03-12T17:08:45.703917Z",
     "shell.execute_reply.started": "2022-03-12T17:08:45.697481Z"
    }
   },
   "outputs": [],
   "source": [
    "config = {\n",
    "    \n",
    "    'seed' : 42,\n",
    "    'model': '../input/murilbasecased',\n",
    "    'group': 'MURIL',\n",
    "    \n",
    "    'batch_size': 16,\n",
    "    'max_length': 64,\n",
    "    \n",
    "    'device' : 'GPU',\n",
    "    'epochs' : 25,\n",
    "\n",
    "    'test_size' : 0.1,\n",
    "    'lr': 5e-6,\n",
    "    'use_transfer_learning' : False,\n",
    "    \n",
    "    'use_wandb': True,\n",
    "    'wandb_mode' : 'online',\n",
    "    \n",
    "\n",
    "}\n"
   ]
  },
  {
   "cell_type": "code",
   "execution_count": 47,
   "metadata": {
    "execution": {
     "iopub.execute_input": "2022-03-12T17:08:45.916803Z",
     "iopub.status.busy": "2022-03-12T17:08:45.916510Z",
     "iopub.status.idle": "2022-03-12T17:08:46.046831Z",
     "shell.execute_reply": "2022-03-12T17:08:46.045666Z",
     "shell.execute_reply.started": "2022-03-12T17:08:45.916773Z"
    }
   },
   "outputs": [],
   "source": [
    "def seed_everything(seed = 42):\n",
    "    random.seed(seed)\n",
    "    np.random.seed(seed)\n",
    "    os.environ['PYTHONHASHSEED'] = str(seed)\n",
    "    tf.random.set_seed(seed)\n",
    "    \n",
    "# Creating a logger 📃\n",
    "def init_logger(log_file:str ='training.log'):\n",
    "    \n",
    "    # Specify the format \n",
    "    formatter = logging.Formatter('%(levelname)s:%(name)s:%(message)s')\n",
    "    \n",
    "    # Create a StreamHandler Instance\n",
    "    stream_handler = logging.StreamHandler()\n",
    "    stream_handler.setLevel(logging.DEBUG)\n",
    "    stream_handler.setFormatter(formatter)\n",
    "    \n",
    "    # Create a FileHandler Instance\n",
    "    file_handler = logging.FileHandler(log_file)\n",
    "    file_handler.setFormatter(formatter)\n",
    "    \n",
    "    # Create a logging.Logger Instance\n",
    "    logger = logging.getLogger('MURIL')\n",
    "    logger.setLevel(logging.DEBUG)\n",
    "    logger.addHandler(stream_handler)\n",
    "    logger.addHandler(file_handler)\n",
    "    \n",
    "    return logger\n",
    "\n",
    "\n",
    "LOGGER = init_logger()\n",
    "LOGGER.info(\"Logger Initialized\")\n",
    "\n",
    "seed_everything()\n",
    "LOGGER.info(\"Seed Setting done\")"
   ]
  },
  {
   "cell_type": "markdown",
   "metadata": {},
   "source": [
    "#### Preparing the train and validation dataset"
   ]
  },
  {
   "cell_type": "code",
   "execution_count": 48,
   "metadata": {
    "execution": {
     "iopub.execute_input": "2022-03-12T17:08:46.253276Z",
     "iopub.status.busy": "2022-03-12T17:08:46.252562Z",
     "iopub.status.idle": "2022-03-12T17:08:46.319160Z",
     "shell.execute_reply": "2022-03-12T17:08:46.318099Z",
     "shell.execute_reply.started": "2022-03-12T17:08:46.253241Z"
    }
   },
   "outputs": [],
   "source": [
    "train_data = pd.read_csv(\"../input/tamil-data/Tamil_train_data.csv\")\n",
    "valid_data = pd.read_csv(\"../input/tamil-data/Tamil_valid_data.csv\")"
   ]
  },
  {
   "cell_type": "code",
   "execution_count": 49,
   "metadata": {
    "execution": {
     "iopub.execute_input": "2022-03-12T17:08:46.454701Z",
     "iopub.status.busy": "2022-03-12T17:08:46.454378Z",
     "iopub.status.idle": "2022-03-12T17:08:46.470502Z",
     "shell.execute_reply": "2022-03-12T17:08:46.469350Z",
     "shell.execute_reply.started": "2022-03-12T17:08:46.454670Z"
    }
   },
   "outputs": [],
   "source": [
    "train_data = train_data[train_data.tag != 'Not-Tamil']"
   ]
  },
  {
   "cell_type": "code",
   "execution_count": 50,
   "metadata": {
    "execution": {
     "iopub.execute_input": "2022-03-12T17:08:46.816800Z",
     "iopub.status.busy": "2022-03-12T17:08:46.815987Z",
     "iopub.status.idle": "2022-03-12T17:08:46.825728Z",
     "shell.execute_reply": "2022-03-12T17:08:46.824000Z",
     "shell.execute_reply.started": "2022-03-12T17:08:46.816766Z"
    }
   },
   "outputs": [],
   "source": [
    "tags = {\"tag\":     {'Hope-Speech':0, 'None-of-the-above':7, 'Homophobia':1, 'Misandry':2,\n",
    "       'Counter-speech':3, 'Misogyny':4, 'Xenophobia':5, 'Transphobic':6}}"
   ]
  },
  {
   "cell_type": "code",
   "execution_count": 51,
   "metadata": {
    "execution": {
     "iopub.execute_input": "2022-03-12T17:08:47.025156Z",
     "iopub.status.busy": "2022-03-12T17:08:47.024784Z",
     "iopub.status.idle": "2022-03-12T17:08:47.052596Z",
     "shell.execute_reply": "2022-03-12T17:08:47.051666Z",
     "shell.execute_reply.started": "2022-03-12T17:08:47.025101Z"
    }
   },
   "outputs": [],
   "source": [
    "train_data = train_data.replace(tags)\n",
    "valid_data = valid_data.replace(tags)"
   ]
  },
  {
   "cell_type": "code",
   "execution_count": 52,
   "metadata": {
    "execution": {
     "iopub.execute_input": "2022-03-12T17:08:47.235579Z",
     "iopub.status.busy": "2022-03-12T17:08:47.234979Z",
     "iopub.status.idle": "2022-03-12T17:08:47.251698Z",
     "shell.execute_reply": "2022-03-12T17:08:47.250117Z",
     "shell.execute_reply.started": "2022-03-12T17:08:47.235542Z"
    }
   },
   "outputs": [],
   "source": [
    "train_data['tag'].value_counts()"
   ]
  },
  {
   "cell_type": "code",
   "execution_count": 53,
   "metadata": {
    "execution": {
     "iopub.execute_input": "2022-03-12T17:08:47.443124Z",
     "iopub.status.busy": "2022-03-12T17:08:47.442801Z",
     "iopub.status.idle": "2022-03-12T17:08:47.461402Z",
     "shell.execute_reply": "2022-03-12T17:08:47.460233Z",
     "shell.execute_reply.started": "2022-03-12T17:08:47.443090Z"
    }
   },
   "outputs": [],
   "source": [
    "train_data.head()"
   ]
  },
  {
   "cell_type": "code",
   "execution_count": 54,
   "metadata": {
    "execution": {
     "iopub.execute_input": "2022-03-12T17:08:47.675889Z",
     "iopub.status.busy": "2022-03-12T17:08:47.675593Z",
     "iopub.status.idle": "2022-03-12T17:08:47.691682Z",
     "shell.execute_reply": "2022-03-12T17:08:47.690880Z",
     "shell.execute_reply.started": "2022-03-12T17:08:47.675857Z"
    }
   },
   "outputs": [],
   "source": [
    "# Disproportionate sampling:\n",
    "# randomly select 4 samples from each stratum\n",
    "\n",
    "#train_data = train_data.groupby('tag', group_keys=False).apply(lambda x: x.sample(750,replace='True'))\n",
    "train_data = train_data.drop(train_data[train_data['tag'] == 7].sample(frac=0.4).index)"
   ]
  },
  {
   "cell_type": "code",
   "execution_count": 55,
   "metadata": {
    "execution": {
     "iopub.execute_input": "2022-03-12T17:08:47.902020Z",
     "iopub.status.busy": "2022-03-12T17:08:47.901739Z",
     "iopub.status.idle": "2022-03-12T17:08:47.916933Z",
     "shell.execute_reply": "2022-03-12T17:08:47.915503Z",
     "shell.execute_reply.started": "2022-03-12T17:08:47.901990Z"
    }
   },
   "outputs": [],
   "source": [
    "def oversample(df):\n",
    "    classes = [4,0,1,6,5]\n",
    "    most = 250\n",
    "    classes_list = []\n",
    "    for key in classes:\n",
    "        classes_list.append(df[df['tag'] == key]) \n",
    "    classes_sample = []\n",
    "    for i in range(len(classes_list)):\n",
    "        classes_sample.append(classes_list[i].sample(most, replace=True))\n",
    "    df_maybe = pd.concat(classes_sample)\n",
    "    final_df = pd.concat([df_maybe,df], axis=0)\n",
    "    final_df = final_df.reset_index(drop=True)\n",
    "    return final_df"
   ]
  },
  {
   "cell_type": "code",
   "execution_count": 56,
   "metadata": {
    "execution": {
     "iopub.execute_input": "2022-03-12T17:08:48.124167Z",
     "iopub.status.busy": "2022-03-12T17:08:48.123000Z",
     "iopub.status.idle": "2022-03-12T17:08:48.143317Z",
     "shell.execute_reply": "2022-03-12T17:08:48.142393Z",
     "shell.execute_reply.started": "2022-03-12T17:08:48.124100Z"
    }
   },
   "outputs": [],
   "source": [
    "train_data = oversample(train_data)"
   ]
  },
  {
   "cell_type": "code",
   "execution_count": 57,
   "metadata": {
    "execution": {
     "iopub.execute_input": "2022-03-12T17:08:48.339978Z",
     "iopub.status.busy": "2022-03-12T17:08:48.339675Z",
     "iopub.status.idle": "2022-03-12T17:08:48.355767Z",
     "shell.execute_reply": "2022-03-12T17:08:48.354478Z",
     "shell.execute_reply.started": "2022-03-12T17:08:48.339945Z"
    }
   },
   "outputs": [],
   "source": [
    "train_data['tag'].value_counts()"
   ]
  },
  {
   "cell_type": "code",
   "execution_count": 58,
   "metadata": {
    "execution": {
     "iopub.execute_input": "2022-03-12T17:08:48.566776Z",
     "iopub.status.busy": "2022-03-12T17:08:48.566500Z",
     "iopub.status.idle": "2022-03-12T17:08:48.579486Z",
     "shell.execute_reply": "2022-03-12T17:08:48.578294Z",
     "shell.execute_reply.started": "2022-03-12T17:08:48.566746Z"
    }
   },
   "outputs": [],
   "source": [
    "from tensorflow.keras.utils import to_categorical\n",
    "\n",
    "y_train = to_categorical(train_data.tag)\n",
    "y_valid = to_categorical(valid_data.tag)"
   ]
  },
  {
   "cell_type": "code",
   "execution_count": 59,
   "metadata": {
    "execution": {
     "iopub.execute_input": "2022-03-12T17:08:48.783624Z",
     "iopub.status.busy": "2022-03-12T17:08:48.782930Z",
     "iopub.status.idle": "2022-03-12T17:08:48.850437Z",
     "shell.execute_reply": "2022-03-12T17:08:48.849439Z",
     "shell.execute_reply.started": "2022-03-12T17:08:48.783589Z"
    }
   },
   "outputs": [],
   "source": [
    "from sklearn.model_selection import train_test_split\n",
    "\n",
    "df_train = train_data\n",
    "df_valid = valid_data\n",
    "\n",
    "#df_train = df_train.reset_index(drop=True)\n",
    "#df_valid = df_valid.reset_index(drop=True)\n",
    "df_train.to_csv('df_train.csv', index=False)\n",
    "df_valid.to_csv('df_valid.csv', index=False)"
   ]
  },
  {
   "cell_type": "code",
   "execution_count": 60,
   "metadata": {
    "execution": {
     "iopub.execute_input": "2022-03-12T17:08:48.993952Z",
     "iopub.status.busy": "2022-03-12T17:08:48.991494Z",
     "iopub.status.idle": "2022-03-12T17:09:02.635855Z",
     "shell.execute_reply": "2022-03-12T17:09:02.634709Z",
     "shell.execute_reply.started": "2022-03-12T17:08:48.993919Z"
    }
   },
   "outputs": [],
   "source": [
    "import wandb\n",
    "\n",
    "if config['use_wandb']:\n",
    "    \n",
    "    wandb.login(key='bea7e72396b621da99070349c065e980f4721fa0')\n",
    "    wandb.init()\n",
    "    artifact =  wandb.Artifact(name=\"folds\", type=\"dataset\")\n",
    "    artifact.add_file('./df_train.csv')\n",
    "    artifact.add_file('./df_valid.csv')\n",
    "\n",
    "    LOGGER.info(\"Logging folds.csv to W&B Artifacts\")\n",
    "    wandb.log_artifact(artifact)"
   ]
  },
  {
   "cell_type": "markdown",
   "metadata": {},
   "source": [
    "#### Loading the tokeniser and tokenising the data"
   ]
  },
  {
   "cell_type": "code",
   "execution_count": 61,
   "metadata": {
    "execution": {
     "iopub.execute_input": "2022-03-12T17:09:02.640802Z",
     "iopub.status.busy": "2022-03-12T17:09:02.640502Z",
     "iopub.status.idle": "2022-03-12T17:09:03.205845Z",
     "shell.execute_reply": "2022-03-12T17:09:03.204699Z",
     "shell.execute_reply.started": "2022-03-12T17:09:02.640769Z"
    }
   },
   "outputs": [],
   "source": [
    "tokenizer = AutoTokenizer.from_pretrained(config['model'])\n",
    "print(tokenizer)\n",
    "\n",
    "LOGGER.info('Tokenizer loaded')"
   ]
  },
  {
   "cell_type": "code",
   "execution_count": 62,
   "metadata": {
    "execution": {
     "iopub.execute_input": "2022-03-12T17:09:03.208327Z",
     "iopub.status.busy": "2022-03-12T17:09:03.207730Z",
     "iopub.status.idle": "2022-03-12T17:09:05.599388Z",
     "shell.execute_reply": "2022-03-12T17:09:05.598234Z",
     "shell.execute_reply.started": "2022-03-12T17:09:03.208280Z"
    }
   },
   "outputs": [],
   "source": [
    "#x_train = dataset.run_tokenizer(df_train)\n",
    "#x_valid = dataset.run_tokenizer(df_valid)\n",
    "\n",
    "x_train = tokenizer(\n",
    "    text=df_train.comments.tolist(),\n",
    "    add_special_tokens=True,\n",
    "    max_length = 64,\n",
    "    padding='max_length',\n",
    "    truncation=True, \n",
    "    return_tensors='tf',\n",
    "    return_token_type_ids = True,\n",
    "    return_attention_mask = True,\n",
    "    verbose = True)\n",
    "x_test = tokenizer(\n",
    "    text=df_valid.comments.tolist(),\n",
    "    add_special_tokens=True,\n",
    "    truncation=True,\n",
    "    max_length = 64,\n",
    "    padding='max_length',\n",
    "    return_tensors='tf',\n",
    "    return_token_type_ids = True,\n",
    "    return_attention_mask = True,\n",
    "    verbose = True)"
   ]
  },
  {
   "cell_type": "code",
   "execution_count": 63,
   "metadata": {
    "execution": {
     "iopub.execute_input": "2022-03-12T17:09:05.609307Z",
     "iopub.status.busy": "2022-03-12T17:09:05.606241Z",
     "iopub.status.idle": "2022-03-12T17:09:05.624144Z",
     "shell.execute_reply": "2022-03-12T17:09:05.622832Z",
     "shell.execute_reply.started": "2022-03-12T17:09:05.609253Z"
    }
   },
   "outputs": [],
   "source": [
    "x_train[\"input_ids\"]"
   ]
  },
  {
   "cell_type": "code",
   "execution_count": 64,
   "metadata": {
    "execution": {
     "iopub.execute_input": "2022-03-12T17:09:05.626181Z",
     "iopub.status.busy": "2022-03-12T17:09:05.625831Z",
     "iopub.status.idle": "2022-03-12T17:09:05.641334Z",
     "shell.execute_reply": "2022-03-12T17:09:05.639214Z",
     "shell.execute_reply.started": "2022-03-12T17:09:05.626120Z"
    }
   },
   "outputs": [],
   "source": [
    "df_train.shape"
   ]
  },
  {
   "cell_type": "code",
   "execution_count": 65,
   "metadata": {
    "execution": {
     "iopub.execute_input": "2022-03-12T17:09:05.648494Z",
     "iopub.status.busy": "2022-03-12T17:09:05.642826Z",
     "iopub.status.idle": "2022-03-12T17:09:05.662743Z",
     "shell.execute_reply": "2022-03-12T17:09:05.661892Z",
     "shell.execute_reply.started": "2022-03-12T17:09:05.648448Z"
    }
   },
   "outputs": [],
   "source": [
    "df_train['tag'].value_counts()"
   ]
  },
  {
   "cell_type": "code",
   "execution_count": 66,
   "metadata": {
    "execution": {
     "iopub.execute_input": "2022-03-12T17:09:05.669148Z",
     "iopub.status.busy": "2022-03-12T17:09:05.668250Z",
     "iopub.status.idle": "2022-03-12T17:09:05.688737Z",
     "shell.execute_reply": "2022-03-12T17:09:05.687207Z",
     "shell.execute_reply.started": "2022-03-12T17:09:05.669048Z"
    }
   },
   "outputs": [],
   "source": [
    "df_valid['tag'].value_counts()"
   ]
  },
  {
   "cell_type": "markdown",
   "metadata": {},
   "source": [
    "#### Defining the model architecture"
   ]
  },
  {
   "cell_type": "code",
   "execution_count": 67,
   "metadata": {
    "execution": {
     "iopub.execute_input": "2022-03-12T17:09:05.690858Z",
     "iopub.status.busy": "2022-03-12T17:09:05.690377Z",
     "iopub.status.idle": "2022-03-12T17:09:05.701800Z",
     "shell.execute_reply": "2022-03-12T17:09:05.700533Z",
     "shell.execute_reply.started": "2022-03-12T17:09:05.690812Z"
    }
   },
   "outputs": [],
   "source": [
    "def get_keras_model():\n",
    "    pretrained_model = TFAutoModel.from_pretrained(config['model'])\n",
    "    \n",
    "    input_ids = layers.Input(shape=(config['max_length']),\n",
    "                             name='input_ids', \n",
    "                             dtype=tf.int32)\n",
    "    token_type_ids = layers.Input(shape=(config['max_length'],),\n",
    "                                  name='token_type_ids', \n",
    "                                  dtype=tf.int32)\n",
    "    attention_mask = layers.Input(shape=(config['max_length'],),\n",
    "                                  name='attention_mask', \n",
    "                                  dtype=tf.int32)\n",
    "    embedding = pretrained_model(input_ids, \n",
    "                     token_type_ids=token_type_ids, \n",
    "                     attention_mask=attention_mask)[0]\n",
    "\n",
    "   \n",
    "\n",
    "    x1 = tf.keras.layers.Dropout(0.2)(embedding) \n",
    "    x1 = tf.keras.layers.Conv1D(1,1)(x1)\n",
    "    x1 = tf.keras.layers.Flatten()(x1)\n",
    "    x1 = tf.keras.layers.Dense(8, activation='softmax')(x1)\n",
    "   \n",
    "    #print(x1.shape)\n",
    "    \n",
    "    model = keras.Model(inputs=[input_ids, \n",
    "                                token_type_ids, \n",
    "                                attention_mask],\n",
    "                        outputs=x1)\n",
    "    \n",
    "    return model"
   ]
  },
  {
   "cell_type": "code",
   "execution_count": 68,
   "metadata": {
    "execution": {
     "iopub.execute_input": "2022-03-12T17:09:05.705086Z",
     "iopub.status.busy": "2022-03-12T17:09:05.703934Z",
     "iopub.status.idle": "2022-03-12T17:09:16.886846Z",
     "shell.execute_reply": "2022-03-12T17:09:16.885107Z",
     "shell.execute_reply.started": "2022-03-12T17:09:05.705042Z"
    }
   },
   "outputs": [],
   "source": [
    "model = get_keras_model()\n",
    "LOGGER.info(\"Model Loaded\")"
   ]
  },
  {
   "cell_type": "code",
   "execution_count": 69,
   "metadata": {
    "execution": {
     "iopub.execute_input": "2022-03-12T17:09:16.891425Z",
     "iopub.status.busy": "2022-03-12T17:09:16.891131Z",
     "iopub.status.idle": "2022-03-12T17:09:16.897864Z",
     "shell.execute_reply": "2022-03-12T17:09:16.896823Z",
     "shell.execute_reply.started": "2022-03-12T17:09:16.891396Z"
    }
   },
   "outputs": [],
   "source": [
    "if config['use_transfer_learning']:\n",
    "    for layer in model.layers:\n",
    "        if 'tf_bert_model' in layer.name:\n",
    "            layer.trainable = False\n",
    "    Logger.info(\"Transfer learning is enabled\")"
   ]
  },
  {
   "cell_type": "markdown",
   "metadata": {},
   "source": [
    "#### Setting hyperparams for the model"
   ]
  },
  {
   "cell_type": "code",
   "execution_count": 70,
   "metadata": {
    "execution": {
     "iopub.execute_input": "2022-03-12T17:09:16.900138Z",
     "iopub.status.busy": "2022-03-12T17:09:16.899483Z",
     "iopub.status.idle": "2022-03-12T17:09:16.929588Z",
     "shell.execute_reply": "2022-03-12T17:09:16.928572Z",
     "shell.execute_reply.started": "2022-03-12T17:09:16.900090Z"
    }
   },
   "outputs": [],
   "source": [
    "from tensorflow.keras.losses import CategoricalCrossentropy\n",
    "from tensorflow.keras.metrics import CategoricalAccuracy\n",
    "\n",
    "loss =CategoricalCrossentropy()\n",
    "metric = CategoricalAccuracy('balanced_accuracy')\n",
    "\n",
    "\n",
    "\n",
    "optimizer = keras.optimizers.Adam(lr= config['lr'],epsilon=1e-08, clipnorm=1.0)\n",
    "#model.compile(loss = \"categorical_crossentropy\" , optimizer=optimizer, metrics=[METRICS])\n",
    "\n",
    "model.compile(loss=loss, optimizer= optimizer, metrics = metric)"
   ]
  },
  {
   "cell_type": "code",
   "execution_count": 71,
   "metadata": {
    "execution": {
     "iopub.execute_input": "2022-03-12T17:09:16.931727Z",
     "iopub.status.busy": "2022-03-12T17:09:16.930921Z",
     "iopub.status.idle": "2022-03-12T17:09:17.439198Z",
     "shell.execute_reply": "2022-03-12T17:09:17.438132Z",
     "shell.execute_reply.started": "2022-03-12T17:09:16.931684Z"
    }
   },
   "outputs": [],
   "source": [
    "tf.keras.utils.plot_model(model, show_shapes=True,show_dtype=True)"
   ]
  },
  {
   "cell_type": "code",
   "execution_count": 72,
   "metadata": {
    "execution": {
     "iopub.execute_input": "2022-03-12T17:09:17.442371Z",
     "iopub.status.busy": "2022-03-12T17:09:17.441289Z",
     "iopub.status.idle": "2022-03-12T17:09:17.485547Z",
     "shell.execute_reply": "2022-03-12T17:09:17.483278Z",
     "shell.execute_reply.started": "2022-03-12T17:09:17.442325Z"
    }
   },
   "outputs": [],
   "source": [
    "if config['use_wandb']:\n",
    "    wandb.log({\"model\": wandb.Image('model.png')})"
   ]
  },
  {
   "cell_type": "code",
   "execution_count": 73,
   "metadata": {
    "execution": {
     "iopub.execute_input": "2022-03-12T17:09:17.488062Z",
     "iopub.status.busy": "2022-03-12T17:09:17.487376Z",
     "iopub.status.idle": "2022-03-12T17:09:17.498793Z",
     "shell.execute_reply": "2022-03-12T17:09:17.497664Z",
     "shell.execute_reply.started": "2022-03-12T17:09:17.488000Z"
    }
   },
   "outputs": [],
   "source": [
    "def get_callbacks():\n",
    "    bm = tf.keras.callbacks.ModelCheckpoint('best_model_sampled_25.h5',\n",
    "                                            verbose=1, \n",
    "                                            monitor='val_loss', \n",
    "                                            mode='min', \n",
    "                                            save_best_only=True, \n",
    "                                            save_weights_only=True)\n",
    "    lm = tf.keras.callbacks.ModelCheckpoint('last_model_25.h5',\n",
    "                                            verbose=1, \n",
    "                                            save_best_only=False, \n",
    "                                            save_weights_only=True)\n",
    "    \n",
    "    callbacks = [bm , lm]\n",
    "    \n",
    "    if config['use_wandb']:\n",
    "        callbacks.append( wandb.keras.WandbCallback(save_model=False) )\n",
    "    return callbacks"
   ]
  },
  {
   "cell_type": "code",
   "execution_count": 74,
   "metadata": {
    "execution": {
     "iopub.execute_input": "2022-03-12T17:09:17.501473Z",
     "iopub.status.busy": "2022-03-12T17:09:17.500829Z",
     "iopub.status.idle": "2022-03-12T17:09:17.520818Z",
     "shell.execute_reply": "2022-03-12T17:09:17.519843Z",
     "shell.execute_reply.started": "2022-03-12T17:09:17.501397Z"
    }
   },
   "outputs": [],
   "source": [
    "from sklearn.utils import class_weight\n",
    "class_weights = class_weight.compute_class_weight(class_weight = \"balanced\",classes =  np.unique(df_train['tag']),y = np.array(df_train['tag']))\n",
    "class_weights = dict(enumerate(class_weights))\n",
    "class_weights"
   ]
  },
  {
   "cell_type": "markdown",
   "metadata": {},
   "source": [
    "#### Training the model"
   ]
  },
  {
   "cell_type": "code",
   "execution_count": 75,
   "metadata": {
    "execution": {
     "iopub.execute_input": "2022-03-12T17:09:17.522862Z",
     "iopub.status.busy": "2022-03-12T17:09:17.522511Z",
     "iopub.status.idle": "2022-03-12T17:44:05.426342Z",
     "shell.execute_reply": "2022-03-12T17:44:05.425141Z",
     "shell.execute_reply.started": "2022-03-12T17:09:17.522817Z"
    }
   },
   "outputs": [],
   "source": [
    "history = model.fit(x = {'input_ids':x_train['input_ids'], \n",
    "                    'token_type_ids':x_train['token_type_ids'], \n",
    "                    'attention_mask': x_train['attention_mask']},\n",
    "                    y = y_train,\n",
    "                    epochs=config['epochs'], \n",
    "                    callbacks=get_callbacks(), \n",
    "                    validation_data = ({'input_ids':x_test['input_ids'], \n",
    "                    'token_type_ids':x_test['token_type_ids'], \n",
    "                    'attention_mask': x_test['attention_mask']},y_valid))"
   ]
  },
  {
   "cell_type": "code",
   "execution_count": 76,
   "metadata": {
    "execution": {
     "iopub.execute_input": "2022-03-12T17:44:05.436303Z",
     "iopub.status.busy": "2022-03-12T17:44:05.431783Z",
     "iopub.status.idle": "2022-03-12T17:44:05.808250Z",
     "shell.execute_reply": "2022-03-12T17:44:05.807187Z",
     "shell.execute_reply.started": "2022-03-12T17:44:05.436259Z"
    }
   },
   "outputs": [],
   "source": [
    "def plot_hist(hist):\n",
    "    plt.figure(figsize=(15,5))\n",
    "    local_epochs = len(hist.history[\"loss\"])\n",
    "    plt.plot(np.arange(local_epochs, step=1), hist.history[\"loss\"], '-o', label='Train Loss',color='#ff7f0e')\n",
    "    plt.plot(np.arange(local_epochs, step=1), hist.history[\"val_loss\"], '-o',label='Val Loss',color='#1f77b4')\n",
    "    plt.xlabel('Epoch',size=14)\n",
    "    plt.ylabel('Loss',size=14)\n",
    "    plt.legend(loc=2)\n",
    "    \n",
    "    plt.savefig('loss.png')\n",
    "    plt.show()\n",
    "    \n",
    "plot_hist(history)"
   ]
  },
  {
   "cell_type": "markdown",
   "metadata": {},
   "source": [
    "#### Loading the model and preparing the test data"
   ]
  },
  {
   "cell_type": "code",
   "execution_count": 77,
   "metadata": {
    "execution": {
     "iopub.execute_input": "2022-03-12T17:44:05.810618Z",
     "iopub.status.busy": "2022-03-12T17:44:05.809983Z",
     "iopub.status.idle": "2022-03-12T17:44:21.363835Z",
     "shell.execute_reply": "2022-03-12T17:44:21.362777Z",
     "shell.execute_reply.started": "2022-03-12T17:44:05.810559Z"
    }
   },
   "outputs": [],
   "source": [
    "model_eval = get_keras_model()\n",
    "\n",
    "model_eval.load_weights('./best_model_sampled_25.h5')"
   ]
  },
  {
   "cell_type": "code",
   "execution_count": 78,
   "metadata": {
    "execution": {
     "iopub.execute_input": "2022-03-12T17:44:21.366114Z",
     "iopub.status.busy": "2022-03-12T17:44:21.365770Z",
     "iopub.status.idle": "2022-03-12T17:44:21.400846Z",
     "shell.execute_reply": "2022-03-12T17:44:21.399665Z",
     "shell.execute_reply.started": "2022-03-12T17:44:21.366061Z"
    }
   },
   "outputs": [],
   "source": [
    "test = pd.read_csv('../input/tamil-data/Tamil_test_data.csv')\n",
    "test = test.replace(tags)"
   ]
  },
  {
   "cell_type": "code",
   "execution_count": 79,
   "metadata": {
    "execution": {
     "iopub.execute_input": "2022-03-12T17:44:21.402923Z",
     "iopub.status.busy": "2022-03-12T17:44:21.402596Z",
     "iopub.status.idle": "2022-03-12T17:44:21.442096Z",
     "shell.execute_reply": "2022-03-12T17:44:21.441070Z",
     "shell.execute_reply.started": "2022-03-12T17:44:21.402879Z"
    }
   },
   "outputs": [],
   "source": [
    "test_labels = pd.read_csv(\"../input/tamil-data/Tamil_test_labels_data.csv\")\n",
    "\n",
    "test_labels = test_labels.replace(tags)\n",
    "test_labels = pd.merge(test_labels, test, on=['comments'])\n",
    "test_labels = test_labels.dropna()"
   ]
  },
  {
   "cell_type": "code",
   "execution_count": 80,
   "metadata": {
    "execution": {
     "iopub.execute_input": "2022-03-12T17:44:21.444981Z",
     "iopub.status.busy": "2022-03-12T17:44:21.444455Z",
     "iopub.status.idle": "2022-03-12T17:44:21.707874Z",
     "shell.execute_reply": "2022-03-12T17:44:21.706903Z",
     "shell.execute_reply.started": "2022-03-12T17:44:21.444934Z"
    }
   },
   "outputs": [],
   "source": [
    "x_test = tokenizer(\n",
    "    text=test_labels.comments.tolist(),\n",
    "    add_special_tokens=True,\n",
    "    max_length = 64,\n",
    "    padding='max_length',\n",
    "    truncation=True, \n",
    "    return_tensors='tf',\n",
    "    return_token_type_ids = True,\n",
    "    return_attention_mask = True,\n",
    "    verbose = True)"
   ]
  },
  {
   "cell_type": "code",
   "execution_count": 81,
   "metadata": {
    "execution": {
     "iopub.execute_input": "2022-03-12T17:44:21.709886Z",
     "iopub.status.busy": "2022-03-12T17:44:21.709592Z",
     "iopub.status.idle": "2022-03-12T17:44:34.886983Z",
     "shell.execute_reply": "2022-03-12T17:44:34.886008Z",
     "shell.execute_reply.started": "2022-03-12T17:44:21.709846Z"
    }
   },
   "outputs": [],
   "source": [
    "preds = model.predict(x = {'input_ids':x_test['input_ids'], \n",
    "                    'token_type_ids':x_test['token_type_ids'], \n",
    "                    'attention_mask': x_test['attention_mask']}, verbose = 1, workers=4)"
   ]
  },
  {
   "cell_type": "code",
   "execution_count": 82,
   "metadata": {
    "execution": {
     "iopub.execute_input": "2022-03-12T17:44:34.890793Z",
     "iopub.status.busy": "2022-03-12T17:44:34.889972Z",
     "iopub.status.idle": "2022-03-12T17:44:34.910583Z",
     "shell.execute_reply": "2022-03-12T17:44:34.909551Z",
     "shell.execute_reply.started": "2022-03-12T17:44:34.890750Z"
    }
   },
   "outputs": [],
   "source": [
    "pr = []\n",
    "for p in preds:\n",
    "    pr.append(np.argmax(p))"
   ]
  },
  {
   "cell_type": "markdown",
   "metadata": {},
   "source": [
    "#### Testing the performance of model on unseen test data"
   ]
  },
  {
   "cell_type": "code",
   "execution_count": 83,
   "metadata": {
    "execution": {
     "iopub.execute_input": "2022-03-12T17:44:34.912613Z",
     "iopub.status.busy": "2022-03-12T17:44:34.912111Z",
     "iopub.status.idle": "2022-03-12T17:44:34.933499Z",
     "shell.execute_reply": "2022-03-12T17:44:34.932454Z",
     "shell.execute_reply.started": "2022-03-12T17:44:34.912564Z"
    }
   },
   "outputs": [],
   "source": [
    "import sklearn\n",
    "import pandas as pd, numpy as np\n",
    "from sklearn.linear_model import LogisticRegression\n",
    "from sklearn.feature_extraction.text import TfidfVectorizer\n",
    "\n",
    "print(sklearn.metrics.classification_report(test_labels['tag'], pr))"
   ]
  },
  {
   "cell_type": "code",
   "execution_count": null,
   "metadata": {},
   "outputs": [],
   "source": []
  }
 ],
 "metadata": {
  "kernelspec": {
   "display_name": "Python 3 (ipykernel)",
   "language": "python",
   "name": "python3"
  },
  "language_info": {
   "codemirror_mode": {
    "name": "ipython",
    "version": 3
   },
   "file_extension": ".py",
   "mimetype": "text/x-python",
   "name": "python",
   "nbconvert_exporter": "python",
   "pygments_lexer": "ipython3",
   "version": "3.11.5"
  }
 },
 "nbformat": 4,
 "nbformat_minor": 4
}
