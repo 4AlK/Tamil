{
 "cells": [
  {
   "cell_type": "markdown",
   "metadata": {
    "colab_type": "text",
    "id": "view-in-github"
   },
   "source": [
    "<a href=\"https://colab.research.google.com/github/Aanisha/ACL_Abusive_Tamil_Comment_Classification/blob/main/SVM_on_sampled_data.ipynb\" target=\"_parent\"><img src=\"https://colab.research.google.com/assets/colab-badge.svg\" alt=\"Open In Colab\"/></a>"
   ]
  },
  {
   "cell_type": "markdown",
   "metadata": {
    "id": "w946rFQWXhNe"
   },
   "source": [
    "# SVM on the dataset\n",
    "\n",
    "The experiment here uses the data after the oversampling and under-sampling of the data."
   ]
  },
  {
   "cell_type": "code",
   "execution_count": 1,
   "metadata": {},
   "outputs": [],
   "source": [
    "import warnings \n",
    "warnings.filterwarnings('ignore') "
   ]
  },
  {
   "cell_type": "code",
   "execution_count": 2,
   "metadata": {
    "colab": {
     "base_uri": "https://localhost:8080/"
    },
    "id": "2zUtblVESanq",
    "outputId": "5e46b48a-e4e9-4b34-d26d-dd8b71751bcd"
   },
   "outputs": [],
   "source": [
    "# Downloading library\n",
    "\n",
    "#!pip install indic-nlp-library"
   ]
  },
  {
   "cell_type": "code",
   "execution_count": 3,
   "metadata": {
    "id": "CoyLxBvjTCli"
   },
   "outputs": [],
   "source": [
    "import pandas as pd, numpy as np\n",
    "from sklearn.linear_model import LogisticRegression\n",
    "from sklearn.feature_extraction.text import TfidfVectorizer"
   ]
  },
  {
   "cell_type": "markdown",
   "metadata": {
    "id": "VVkflqT8bRdj"
   },
   "source": [
    "#### Preprocessing the data"
   ]
  },
  {
   "cell_type": "code",
   "execution_count": 4,
   "metadata": {
    "id": "egDs_caZTY8q"
   },
   "outputs": [],
   "source": [
    "train = pd.read_csv('data/Tamil_train_data.csv')\n",
    "test = pd.read_csv('data/Tamil_test_data.csv')\n",
    "valid = pd.read_csv('data/Tamil_valid_data.csv')"
   ]
  },
  {
   "cell_type": "code",
   "execution_count": 5,
   "metadata": {
    "id": "cdjAnJzmTyHI"
   },
   "outputs": [],
   "source": [
    "train = train[train.tag != 'Not-Tamil']"
   ]
  },
  {
   "cell_type": "code",
   "execution_count": 6,
   "metadata": {
    "id": "6gxDAUsAUNnm"
   },
   "outputs": [],
   "source": [
    "tags = {\"tag\":     {'Hope-Speech':0, 'None-of-the-above':7, 'Homophobia':1, 'Misandry':2,\n",
    "       'Counter-speech':3, 'Misogyny':4, 'Xenophobia':5, 'Transphobic':6}}"
   ]
  },
  {
   "cell_type": "code",
   "execution_count": 7,
   "metadata": {
    "id": "RuE7vMtFUzkl"
   },
   "outputs": [],
   "source": [
    "train = train.replace(tags)\n",
    "valid = valid.replace(tags)\n",
    "test = test.replace(tags)"
   ]
  },
  {
   "cell_type": "code",
   "execution_count": 8,
   "metadata": {
    "id": "qXEcRozRVmT_"
   },
   "outputs": [],
   "source": [
    "train = pd.concat([train,valid],axis=0)"
   ]
  },
  {
   "cell_type": "code",
   "execution_count": 9,
   "metadata": {
    "colab": {
     "base_uri": "https://localhost:8080/"
    },
    "id": "hY6Lh9snVtUk",
    "outputId": "08291484-e166-4668-c1a5-2dacd831f8bf"
   },
   "outputs": [
    {
     "data": {
      "text/plain": [
       "(10227, 2)"
      ]
     },
     "execution_count": 9,
     "metadata": {},
     "output_type": "execute_result"
    }
   ],
   "source": [
    "train.shape"
   ]
  },
  {
   "cell_type": "code",
   "execution_count": 10,
   "metadata": {
    "id": "kJrc_HuytwFe"
   },
   "outputs": [],
   "source": [
    "train = train.drop(train[train['tag'] == 7].sample(frac=0.4).index)"
   ]
  },
  {
   "cell_type": "code",
   "execution_count": 11,
   "metadata": {
    "id": "X8LFjK5iyUH1"
   },
   "outputs": [],
   "source": [
    "test_labels = pd.read_csv(\"data/Tamil_test_labels_data.csv\")\n",
    "\n",
    "test_labels = test_labels.replace(tags)\n",
    "test_labels = pd.merge(test_labels, test, on=['comments'])\n",
    "test_labels = test_labels.dropna()"
   ]
  },
  {
   "cell_type": "code",
   "execution_count": 12,
   "metadata": {
    "id": "f9J99E3IyZf_"
   },
   "outputs": [],
   "source": [
    "gt = []\n",
    "co = []\n",
    "for com in range(len(list(test_labels['comments']))):\n",
    "  if test_labels['comments'][com] in list(test['comments']):\n",
    "\n",
    "    gt.append(test_labels['tag'][com])\n",
    "    co.append(test_labels['comments'][com])"
   ]
  },
  {
   "cell_type": "code",
   "execution_count": 13,
   "metadata": {
    "colab": {
     "base_uri": "https://localhost:8080/"
    },
    "id": "701vIHx4yjCF",
    "outputId": "c208b51f-bc34-436a-b3c0-ced948970cc6"
   },
   "outputs": [
    {
     "data": {
      "text/plain": [
       "2555"
      ]
     },
     "execution_count": 13,
     "metadata": {},
     "output_type": "execute_result"
    }
   ],
   "source": [
    "len(co)"
   ]
  },
  {
   "cell_type": "code",
   "execution_count": 14,
   "metadata": {
    "id": "vEKU-mQct2Vy"
   },
   "outputs": [],
   "source": [
    "def oversample(df):\n",
    "    classes = [4,0,1,6,5]\n",
    "    most = 250\n",
    "    classes_list = []\n",
    "    for key in classes:\n",
    "        classes_list.append(df[df['tag'] == key]) \n",
    "    classes_sample = []\n",
    "    for i in range(len(classes_list)):\n",
    "        classes_sample.append(classes_list[i].sample(most, replace=True))\n",
    "    df_maybe = pd.concat(classes_sample)\n",
    "    final_df = pd.concat([df_maybe,df], axis=0)\n",
    "    final_df = final_df.reset_index(drop=True)\n",
    "    return final_df"
   ]
  },
  {
   "cell_type": "code",
   "execution_count": 15,
   "metadata": {
    "id": "Jrl2mv3ot7YK"
   },
   "outputs": [],
   "source": [
    "train = oversample(train)"
   ]
  },
  {
   "cell_type": "markdown",
   "metadata": {
    "id": "rSnr5z6MbH1o"
   },
   "source": [
    "#### Tokenization of the train data"
   ]
  },
  {
   "cell_type": "code",
   "execution_count": 16,
   "metadata": {
    "id": "ezKOgeFwU3gy"
   },
   "outputs": [],
   "source": [
    "import re, string\n",
    "from indicnlp.tokenize import indic_tokenize\n",
    "def tokenize(s): return indic_tokenize.trivial_tokenize(s)"
   ]
  },
  {
   "cell_type": "code",
   "execution_count": 17,
   "metadata": {
    "id": "7pysTr8JVHj8"
   },
   "outputs": [],
   "source": [
    "n = train.shape[0]\n",
    "\n",
    "vec = TfidfVectorizer(ngram_range=(1,2), tokenizer=tokenize,\n",
    "                      strip_accents='unicode', use_idf=1,\n",
    "               smooth_idf=1, sublinear_tf=1)\n",
    "\n",
    "\n",
    "trn_term_doc = vec.fit_transform(train['comments'])\n",
    "test_term_doc = vec.transform(co)"
   ]
  },
  {
   "cell_type": "markdown",
   "metadata": {
    "id": "OqkZ_XE2a6he"
   },
   "source": [
    "#### Training the model on the training data"
   ]
  },
  {
   "cell_type": "code",
   "execution_count": 18,
   "metadata": {
    "id": "qzCweAheXmi6"
   },
   "outputs": [],
   "source": [
    "label_cols = ['tag']"
   ]
  },
  {
   "cell_type": "code",
   "execution_count": 19,
   "metadata": {
    "id": "GvxdUq6JVaLN"
   },
   "outputs": [],
   "source": [
    "x = trn_term_doc\n",
    "test_x = test_term_doc"
   ]
  },
  {
   "cell_type": "code",
   "execution_count": 20,
   "metadata": {
    "id": "oQEV7lVzVSzL"
   },
   "outputs": [],
   "source": [
    "def pr(y_i, y):\n",
    "    p = x[y==y_i].sum(0)\n",
    "    return (p+1) / ((y==y_i).sum()+1)"
   ]
  },
  {
   "cell_type": "code",
   "execution_count": 21,
   "metadata": {
    "id": "R9d49XB_WiDm"
   },
   "outputs": [],
   "source": [
    "import sklearn.svm as svm\n",
    "import sklearn.ensemble\n",
    "\n",
    "def get_mdl(y):\n",
    "    y = y.values\n",
    "    r = np.log(pr(1,y) / pr(0,y))\n",
    "    #m = LogisticRegression(solver='newton-cg')\n",
    "    m = svm.SVC(kernel='poly', degree=8, C=1)\n",
    "    x_nb = x.multiply(r)\n",
    "    return m.fit(x_nb, y), r"
   ]
  },
  {
   "cell_type": "code",
   "execution_count": 22,
   "metadata": {
    "colab": {
     "base_uri": "https://localhost:8080/"
    },
    "id": "ONkHmHTuWk_f",
    "outputId": "2a36f707-b6e6-4364-b1a4-2e97468e31ee"
   },
   "outputs": [
    {
     "name": "stdout",
     "output_type": "stream",
     "text": [
      "fit tag\n"
     ]
    }
   ],
   "source": [
    "preds = np.zeros((len(test), len(label_cols)))\n",
    "\n",
    "for i, j in enumerate(label_cols):\n",
    "    print('fit', j)\n",
    "    m,r = get_mdl(train[j])\n",
    "    preds = m.predict(test_x.multiply(r))"
   ]
  },
  {
   "cell_type": "code",
   "execution_count": 23,
   "metadata": {
    "colab": {
     "base_uri": "https://localhost:8080/"
    },
    "id": "Srov1HIuu5jp",
    "outputId": "311e3d4b-cc19-421b-fe88-64c9701fce43"
   },
   "outputs": [
    {
     "data": {
      "text/plain": [
       "2555"
      ]
     },
     "execution_count": 23,
     "metadata": {},
     "output_type": "execute_result"
    }
   ],
   "source": [
    "len(preds)"
   ]
  },
  {
   "cell_type": "markdown",
   "metadata": {
    "id": "fv9cbwAeanmg"
   },
   "source": [
    "### Preparing the test data"
   ]
  },
  {
   "cell_type": "code",
   "execution_count": 24,
   "metadata": {
    "id": "Rwy8XaVPXpDn"
   },
   "outputs": [],
   "source": [
    "test_labels = pd.read_csv(\"data/Tamil_test_labels_data.csv\")"
   ]
  },
  {
   "cell_type": "code",
   "execution_count": 25,
   "metadata": {
    "colab": {
     "base_uri": "https://localhost:8080/"
    },
    "id": "g3r5dd-dbixZ",
    "outputId": "29a9af26-2276-4709-d899-e5a6c533aa71"
   },
   "outputs": [
    {
     "data": {
      "text/plain": [
       "(2559, 2)"
      ]
     },
     "execution_count": 25,
     "metadata": {},
     "output_type": "execute_result"
    }
   ],
   "source": [
    "test_labels.shape"
   ]
  },
  {
   "cell_type": "code",
   "execution_count": 26,
   "metadata": {
    "id": "5av1jK3GX04z"
   },
   "outputs": [],
   "source": [
    "test_labels = test_labels.replace(tags)"
   ]
  },
  {
   "cell_type": "code",
   "execution_count": 27,
   "metadata": {
    "id": "N4A_xXtRj4Qv"
   },
   "outputs": [],
   "source": [
    "test_labels = test_labels.dropna()"
   ]
  },
  {
   "cell_type": "code",
   "execution_count": 28,
   "metadata": {
    "colab": {
     "base_uri": "https://localhost:8080/"
    },
    "id": "rgci5vyzbpyJ",
    "outputId": "73df1ed5-251e-4faa-adef-db9253b15c7f"
   },
   "outputs": [
    {
     "data": {
      "text/plain": [
       "(2556, 2)"
      ]
     },
     "execution_count": 28,
     "metadata": {},
     "output_type": "execute_result"
    }
   ],
   "source": [
    "test_labels.shape"
   ]
  },
  {
   "cell_type": "markdown",
   "metadata": {
    "id": "Zg8TuNq-atqE"
   },
   "source": [
    "### Testing the model using unseen test data"
   ]
  },
  {
   "cell_type": "code",
   "execution_count": 29,
   "metadata": {
    "colab": {
     "base_uri": "https://localhost:8080/"
    },
    "id": "fFyPVQ5NYQDR",
    "outputId": "5f3f65a2-84c5-45d7-c9e7-5ee5b13968fb"
   },
   "outputs": [
    {
     "name": "stdout",
     "output_type": "stream",
     "text": [
      "              precision    recall  f1-score   support\n",
      "\n",
      "           0       0.17      0.23      0.20        95\n",
      "           1       0.24      0.14      0.18        64\n",
      "           2       0.60      0.08      0.14       419\n",
      "           3       0.07      0.01      0.01       135\n",
      "           4       0.12      0.05      0.07       105\n",
      "           5       0.00      0.00      0.00       120\n",
      "           6       0.09      0.07      0.07        60\n",
      "           7       0.61      0.88      0.72      1557\n",
      "\n",
      "    accuracy                           0.56      2555\n",
      "   macro avg       0.24      0.18      0.17      2555\n",
      "weighted avg       0.50      0.56      0.48      2555\n",
      "\n"
     ]
    }
   ],
   "source": [
    "import sklearn\n",
    "\n",
    "print(sklearn.metrics.classification_report(gt, preds))"
   ]
  },
  {
   "cell_type": "code",
   "execution_count": 118,
   "metadata": {
    "id": "E0ZBmymLYUfH"
   },
   "outputs": [],
   "source": []
  }
 ],
 "metadata": {
  "colab": {
   "authorship_tag": "ABX9TyP4zOrgqwCkVs+o2DSqGpY5",
   "include_colab_link": true,
   "mount_file_id": "14UGW8HzpQaVx_aHdLy362N8i-hhGN7px",
   "name": "SVM on sampled data.ipynb",
   "provenance": []
  },
  "kernelspec": {
   "display_name": "Python 3 (ipykernel)",
   "language": "python",
   "name": "python3"
  },
  "language_info": {
   "codemirror_mode": {
    "name": "ipython",
    "version": 3
   },
   "file_extension": ".py",
   "mimetype": "text/x-python",
   "name": "python",
   "nbconvert_exporter": "python",
   "pygments_lexer": "ipython3",
   "version": "3.11.5"
  }
 },
 "nbformat": 4,
 "nbformat_minor": 1
}
